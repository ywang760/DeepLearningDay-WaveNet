{
 "cells": [
  {
   "cell_type": "code",
   "execution_count": null,
   "id": "f1d92190",
   "metadata": {},
   "outputs": [],
   "source": [
    "import numpy as np\n",
    "import os\n",
    "from collections import Counter\n",
    "from sklearn.model_selection import train_test_split"
   ]
  },
  {
   "cell_type": "code",
   "execution_count": 2,
   "id": "23ea956f",
   "metadata": {},
   "outputs": [
    {
     "name": "stdout",
     "output_type": "stream",
     "text": [
      "['schu_143_1.mid', 'schu_143_2.mid', 'schu_143_3.mid']\n"
     ]
    }
   ],
   "source": [
    "path = 'schubert/'\n",
    "files = [i for i in os.listdir(path) if i.endswith(\".mid\")]\n",
    "print(files)\n",
    "\n",
    "sample_path = 'schubert/schu_143_1.mid'"
   ]
  },
  {
   "cell_type": "code",
   "execution_count": 2,
   "id": "94f0371c",
   "metadata": {},
   "outputs": [],
   "source": [
    "from wavenet import Preprocess\n",
    "\n",
    "# pre = \n",
    "read_result = Preprocess().read_midi(sample_path)\n",
    "print(read_result)\n",
    "print(read_result.dtype)\n",
    "print(read_result.shape)"
   ]
  },
  {
   "cell_type": "code",
   "execution_count": 11,
   "id": "557fa2f6",
   "metadata": {},
   "outputs": [
    {
     "name": "stdout",
     "output_type": "stream",
     "text": [
      "['schu_143_1.mid', 'schu_143_2.mid', 'schu_143_3.mid']\n",
      "Loading Music File: schubert/schu_143_1.mid\n",
      "Loading Music File: schubert/schu_143_2.mid\n",
      "Loading Music File: schubert/schu_143_3.mid\n"
     ]
    }
   ],
   "source": [
    "notes_array = pre.read_all_midi(path='schubert/')"
   ]
  },
  {
   "cell_type": "code",
   "execution_count": 30,
   "id": "6a41eac1",
   "metadata": {},
   "outputs": [],
   "source": []
  },
  {
   "cell_type": "code",
   "execution_count": 31,
   "id": "b6c9fd9b",
   "metadata": {},
   "outputs": [
    {
     "name": "stdout",
     "output_type": "stream",
     "text": [
      "notes_ has length: 6393\n",
      "frequent_notes: 47\n"
     ]
    },
    {
     "name": "stderr",
     "output_type": "stream",
     "text": [
      "C:\\Users\\DELL\\AppData\\Local\\Temp\\ipykernel_19084\\4227196714.py:20: VisibleDeprecationWarning: Creating an ndarray from ragged nested sequences (which is a list-or-tuple of lists-or-tuples-or ndarrays with different lengths or shapes) is deprecated. If you meant to do this, you must specify 'dtype=object' when creating the ndarray\n",
      "  new_music = np.array(new_music)\n"
     ]
    },
    {
     "name": "stdout",
     "output_type": "stream",
     "text": [
      "length of unique_x is47\n",
      "{'D5': 0, 'E-5': 1, '0': 2, '5.9.0': 3, 'C5': 4, 'A3': 5, 'G#4': 6, 'C#4': 7, 'A4': 8, 'C4': 9, '9.1': 10, 'G3': 11, '5': 12, 'C6': 13, '2': 14, 'B4': 15, '10': 16, 'B3': 17, 'A2': 18, 'F2': 19, 'F3': 20, 'B-5': 21, '9': 22, '4.9': 23, 'A5': 24, 'F#3': 25, 'F#4': 26, 'E4': 27, 'G#3': 28, 'F5': 29, '4.8': 30, '5.9': 31, 'G5': 32, 'E2': 33, 'E3': 34, 'F4': 35, 'D4': 36, '11': 37, 'G#5': 38, '11.4': 39, 'E5': 40, 'C3': 41, '4': 42, '7': 43, 'C#5': 44, 'G4': 45, 'B2': 46}\n",
      "length of unique_y is47\n",
      "[[14 42 22 37  2 37  2 14 42 18 42 22 37 42 22 37 42 22 37 42 22 37  2 37\n",
      "   2 14 42 22 37  2 37  2]\n",
      " [42 22 37  2 37  2 14 42 18 42 22 37 42 22 37 42 22 37 42 22 37  2 37  2\n",
      "  14 42 22 37  2 37  2 14]\n",
      " [22 37  2 37  2 14 42 18 42 22 37 42 22 37 42 22 37 42 22 37  2 37  2 14\n",
      "  42 22 37  2 37  2 14 42]\n",
      " [37  2 37  2 14 42 18 42 22 37 42 22 37 42 22 37 42 22 37  2 37  2 14 42\n",
      "  22 37  2 37  2 14 42 22]\n",
      " [ 2 37  2 14 42 18 42 22 37 42 22 37 42 22 37 42 22 37  2 37  2 14 42 22\n",
      "  37  2 37  2 14 42 22 37]\n",
      " [37  2 14 42 18 42 22 37 42 22 37 42 22 37 42 22 37  2 37  2 14 42 22 37\n",
      "   2 37  2 14 42 22 37  2]\n",
      " [ 2 14 42 18 42 22 37 42 22 37 42 22 37 42 22 37  2 37  2 14 42 22 37  2\n",
      "  37  2 14 42 22 37  2 37]\n",
      " [14 42 18 42 22 37 42 22 37 42 22 37 42 22 37  2 37  2 14 42 22 37  2 37\n",
      "   2 14 42 22 37  2 37  2]\n",
      " [42 18 42 22 37 42 22 37 42 22 37 42 22 37  2 37  2 14 42 22 37  2 37  2\n",
      "  14 42 22 37  2 37  2 14]\n",
      " [18 42 22 37 42 22 37 42 22 37 42 22 37  2 37  2 14 42 22 37  2 37  2 14\n",
      "  42 22 37  2 37  2 14 42]]\n",
      "[14 41 22 37  2 37  2 14 41 22]\n",
      "(4353, 32)\n",
      "(4353,)\n",
      "(3482, 32)\n",
      "(871, 32)\n",
      "(3482,)\n",
      "(871,)\n",
      "int32\n",
      "int32\n",
      "int32\n",
      "int32\n"
     ]
    }
   ],
   "source": [
    "# define training and testing data\n",
    "x_tr, x_val, y_tr, y_val = pre.prepare(notes_array)\n",
    "# unique_x, unique_y = pre.get_unique()\n",
    "\n",
    "print(x_tr.shape)\n",
    "print(x_val.shape)\n",
    "print(y_tr.shape)\n",
    "print(y_val.shape)\n",
    "\n",
    "print(x_tr.dtype)\n",
    "print(x_val.dtype)\n",
    "print(y_tr.dtype)\n",
    "print(y_val.dtype)\n",
    "\n",
    "# print(unique_x)"
   ]
  },
  {
   "cell_type": "code",
   "execution_count": 27,
   "id": "3156849a",
   "metadata": {},
   "outputs": [
    {
     "ename": "NameError",
     "evalue": "name 'unique_x' is not defined",
     "output_type": "error",
     "traceback": [
      "\u001b[1;31m---------------------------------------------------------------------------\u001b[0m",
      "\u001b[1;31mNameError\u001b[0m                                 Traceback (most recent call last)",
      "\u001b[1;32mc:\\Users\\DELL\\Desktop\\Fall2022\\cs1470\\final project\\DeepLearningFinal-WaveNet\\Music-Generation-Using-Deep-Learning\\final_project.ipynb Cell 7\u001b[0m in \u001b[0;36m<cell line: 4>\u001b[1;34m()\u001b[0m\n\u001b[0;32m      <a href='vscode-notebook-cell:/c%3A/Users/DELL/Desktop/Fall2022/cs1470/final%20project/DeepLearningFinal-WaveNet/Music-Generation-Using-Deep-Learning/final_project.ipynb#W6sZmlsZQ%3D%3D?line=0'>1</a>\u001b[0m \u001b[39mfrom\u001b[39;00m \u001b[39mwavenet\u001b[39;00m \u001b[39mimport\u001b[39;00m Wavenet\n\u001b[0;32m      <a href='vscode-notebook-cell:/c%3A/Users/DELL/Desktop/Fall2022/cs1470/final%20project/DeepLearningFinal-WaveNet/Music-Generation-Using-Deep-Learning/final_project.ipynb#W6sZmlsZQ%3D%3D?line=2'>3</a>\u001b[0m model \u001b[39m=\u001b[39m Wavenet()\n\u001b[1;32m----> <a href='vscode-notebook-cell:/c%3A/Users/DELL/Desktop/Fall2022/cs1470/final%20project/DeepLearningFinal-WaveNet/Music-Generation-Using-Deep-Learning/final_project.ipynb#W6sZmlsZQ%3D%3D?line=3'>4</a>\u001b[0m model\u001b[39m.\u001b[39mconstruct(\u001b[39mlen\u001b[39m(unique_x), \u001b[39mlen\u001b[39m(unique_y))\n\u001b[0;32m      <a href='vscode-notebook-cell:/c%3A/Users/DELL/Desktop/Fall2022/cs1470/final%20project/DeepLearningFinal-WaveNet/Music-Generation-Using-Deep-Learning/final_project.ipynb#W6sZmlsZQ%3D%3D?line=4'>5</a>\u001b[0m model\u001b[39m.\u001b[39mfit(x_tr, x_val, y_tr, y_val)\n",
      "\u001b[1;31mNameError\u001b[0m: name 'unique_x' is not defined"
     ]
    }
   ],
   "source": [
    "from wavenet import Wavenet\n",
    "\n",
    "model = Wavenet()\n",
    "model.construct(len(unique_x), len(unique_y))\n",
    "model.fit(x_tr, x_val, y_tr, y_val)"
   ]
  },
  {
   "cell_type": "code",
   "execution_count": null,
   "id": "56e09449",
   "metadata": {},
   "outputs": [
    {
     "name": "stdout",
     "output_type": "stream",
     "text": [
      "1/1 [==============================] - 0s 217ms/step\n",
      "1/1 [==============================] - 0s 18ms/step\n",
      "1/1 [==============================] - 0s 17ms/step\n",
      "1/1 [==============================] - 0s 17ms/step\n",
      "1/1 [==============================] - 0s 17ms/step\n",
      "1/1 [==============================] - 0s 16ms/step\n",
      "1/1 [==============================] - 0s 19ms/step\n",
      "1/1 [==============================] - 0s 17ms/step\n",
      "1/1 [==============================] - 0s 17ms/step\n",
      "1/1 [==============================] - 0s 17ms/step\n"
     ]
    }
   ],
   "source": [
    "# make predictions\n",
    "predicted_output = model.predict(x_val, unique_x)"
   ]
  },
  {
   "cell_type": "code",
   "execution_count": null,
   "id": "60cb2126",
   "metadata": {},
   "outputs": [],
   "source": [
    "from wavenet import ToMidi\n",
    "midi = ToMidi()\n",
    "midi.to_midi(predicted_output)"
   ]
  }
 ],
 "metadata": {
  "kernelspec": {
   "display_name": "Python 3.8.13 ('DL')",
   "language": "python",
   "name": "python3"
  },
  "language_info": {
   "codemirror_mode": {
    "name": "ipython",
    "version": 3
   },
   "file_extension": ".py",
   "mimetype": "text/x-python",
   "name": "python",
   "nbconvert_exporter": "python",
   "pygments_lexer": "ipython3",
   "version": "3.8.13"
  },
  "vscode": {
   "interpreter": {
    "hash": "81bc6bb4078edff0d935dfe3ec9a2fa481bd7105e8c22492a837b35394154f2f"
   }
  }
 },
 "nbformat": 4,
 "nbformat_minor": 5
}
