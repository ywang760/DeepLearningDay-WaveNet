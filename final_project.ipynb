{
 "cells": [
  {
   "cell_type": "code",
   "execution_count": null,
   "id": "f1d92190",
   "metadata": {},
   "outputs": [],
   "source": [
    "import numpy as np\n",
    "import os\n",
    "from collections import Counter\n",
    "from sklearn.model_selection import train_test_split"
   ]
  },
  {
   "cell_type": "code",
   "execution_count": null,
   "id": "4aa6d39b",
   "metadata": {},
   "outputs": [],
   "source": [
    "! pip install pydub\n",
    "! pip install ffmpeg"
   ]
  },
  {
   "cell_type": "code",
   "execution_count": null,
   "id": "57a61b08",
   "metadata": {},
   "outputs": [],
   "source": [
    "from preprocessing import Preprocess"
   ]
  },
  {
   "cell_type": "code",
   "execution_count": null,
   "id": "6a41eac1",
   "metadata": {},
   "outputs": [],
   "source": [
    "sr = 16000\n",
    "\n",
    "preprocess = Preprocess(time_steps=32, sampling_rate=sr, datapath='audiotest/')\n",
    "x_tr, x_val, y_tr, y_val = preprocess.create_dataset()"
   ]
  },
  {
   "cell_type": "code",
   "execution_count": null,
   "id": "b6c9fd9b",
   "metadata": {},
   "outputs": [],
   "source": [
    "# unique_x, unique_y = pre.get_unique()\n",
    "print(x_tr.shape)\n",
    "print(x_val.shape)\n",
    "print(y_tr.shape)\n",
    "print(y_val.shape)\n",
    "\n",
    "print(x_tr.dtype)\n",
    "print(x_val.dtype)\n",
    "print(y_tr.dtype)\n",
    "print(y_val.dtype)\n",
    "\n",
    "# print(unique_x)"
   ]
  },
  {
   "cell_type": "code",
   "execution_count": null,
   "id": "3156849a",
   "metadata": {},
   "outputs": [],
   "source": [
    "from wavenet import Wavenet\n",
    "\n",
    "model = Wavenet()\n",
    "model.construct(47, 47) # not sure about the construct parameters here\n",
    "model.fit(x_tr, x_val, y_tr, y_val)"
   ]
  },
  {
   "cell_type": "code",
   "execution_count": null,
   "id": "56e09449",
   "metadata": {},
   "outputs": [],
   "source": [
    "# make predictions\n",
    "predicted_output = model.predict(x_val, 47)\n",
    "\n",
    "print(predicted_output.shape)\n",
    "print(predicted_output.dtype)"
   ]
  },
  {
   "cell_type": "code",
   "execution_count": null,
   "id": "60cb2126",
   "metadata": {},
   "outputs": [],
   "source": [
    "# from wavenet import ToMidi\n",
    "# midi = ToMidi()\n",
    "# midi.to_midi(predicted_output)"
   ]
  },
  {
   "cell_type": "code",
   "execution_count": null,
   "id": "248a7ee6",
   "metadata": {},
   "outputs": [],
   "source": [
    "from generate import Generate\n",
    "\n",
    "g = Generate(sr)\n",
    "g.generate(predicted_output)"
   ]
  }
 ],
 "metadata": {
  "kernelspec": {
   "display_name": "Python 3.8.13 ('DL')",
   "language": "python",
   "name": "python3"
  },
  "language_info": {
   "codemirror_mode": {
    "name": "ipython",
    "version": 3
   },
   "file_extension": ".py",
   "mimetype": "text/x-python",
   "name": "python",
   "nbconvert_exporter": "python",
   "pygments_lexer": "ipython3",
   "version": "3.8.13"
  },
  "vscode": {
   "interpreter": {
    "hash": "81bc6bb4078edff0d935dfe3ec9a2fa481bd7105e8c22492a837b35394154f2f"
   }
  }
 },
 "nbformat": 4,
 "nbformat_minor": 5
}
