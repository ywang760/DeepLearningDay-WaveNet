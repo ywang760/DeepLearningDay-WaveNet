{
 "cells": [
  {
   "cell_type": "code",
   "execution_count": 1,
   "id": "f1d92190",
   "metadata": {},
   "outputs": [],
   "source": [
    "import numpy as np\n",
    "import os\n",
    "from collections import Counter\n",
    "from sklearn.model_selection import train_test_split"
   ]
  },
  {
   "cell_type": "code",
   "execution_count": 2,
   "id": "57a61b08",
   "metadata": {},
   "outputs": [],
   "source": [
    "from preprocessing import Preprocess"
   ]
  },
  {
   "cell_type": "code",
   "execution_count": 6,
   "id": "6a41eac1",
   "metadata": {},
   "outputs": [],
   "source": [
    "preprocess = Preprocess(time_steps=32, sampling_rate=44100, datapath='audiotest/')\n",
    "x_tr, x_val, y_tr, y_val = preprocess.create_dataset()"
   ]
  },
  {
   "cell_type": "code",
   "execution_count": 7,
   "id": "b6c9fd9b",
   "metadata": {},
   "outputs": [
    {
     "name": "stdout",
     "output_type": "stream",
     "text": [
      "(7770448, 32)\n",
      "(1942613, 32)\n",
      "(7770448,)\n",
      "(1942613,)\n",
      "float32\n",
      "float32\n",
      "float32\n",
      "float32\n"
     ]
    }
   ],
   "source": [
    "# unique_x, unique_y = pre.get_unique()\n",
    "print(x_tr.shape)\n",
    "print(x_val.shape)\n",
    "print(y_tr.shape)\n",
    "print(y_val.shape)\n",
    "\n",
    "print(x_tr.dtype)\n",
    "print(x_val.dtype)\n",
    "print(y_tr.dtype)\n",
    "print(y_val.dtype)\n",
    "\n",
    "# print(unique_x)"
   ]
  },
  {
   "cell_type": "code",
   "execution_count": 8,
   "id": "3156849a",
   "metadata": {},
   "outputs": [
    {
     "name": "stdout",
     "output_type": "stream",
     "text": [
      "Model: \"sequential\"\n",
      "_________________________________________________________________\n",
      " Layer (type)                Output Shape              Param #   \n",
      "=================================================================\n",
      " embedding (Embedding)       (None, 32, 100)           4700      \n",
      "                                                                 \n",
      " conv1d (Conv1D)             (None, 32, 64)            19264     \n",
      "                                                                 \n",
      " dropout (Dropout)           (None, 32, 64)            0         \n",
      "                                                                 \n",
      " max_pooling1d (MaxPooling1D  (None, 16, 64)           0         \n",
      " )                                                               \n",
      "                                                                 \n",
      " conv1d_1 (Conv1D)           (None, 16, 128)           24704     \n",
      "                                                                 \n",
      " dropout_1 (Dropout)         (None, 16, 128)           0         \n",
      "                                                                 \n",
      " max_pooling1d_1 (MaxPooling  (None, 8, 128)           0         \n",
      " 1D)                                                             \n",
      "                                                                 \n",
      " conv1d_2 (Conv1D)           (None, 8, 256)            98560     \n",
      "                                                                 \n",
      " dropout_2 (Dropout)         (None, 8, 256)            0         \n",
      "                                                                 \n",
      " max_pooling1d_2 (MaxPooling  (None, 4, 256)           0         \n",
      " 1D)                                                             \n",
      "                                                                 \n",
      " global_max_pooling1d (Globa  (None, 256)              0         \n",
      " lMaxPooling1D)                                                  \n",
      "                                                                 \n",
      " dense (Dense)               (None, 256)               65792     \n",
      "                                                                 \n",
      " dense_1 (Dense)             (None, 47)                12079     \n",
      "                                                                 \n",
      "=================================================================\n",
      "Total params: 225,099\n",
      "Trainable params: 225,099\n",
      "Non-trainable params: 0\n",
      "_________________________________________________________________\n",
      "Epoch 1/5\n"
     ]
    },
    {
     "ename": "",
     "evalue": "",
     "output_type": "error",
     "traceback": [
      "\u001b[1;31mCanceled future for execute_request message before replies were done"
     ]
    },
    {
     "ename": "",
     "evalue": "",
     "output_type": "error",
     "traceback": [
      "\u001b[1;31mThe Kernel crashed while executing code in the the current cell or a previous cell. Please review the code in the cell(s) to identify a possible cause of the failure. Click <a href='https://aka.ms/vscodeJupyterKernelCrash'>here</a> for more info. View Jupyter <a href='command:jupyter.viewOutput'>log</a> for further details."
     ]
    }
   ],
   "source": [
    "from wavenet import Wavenet\n",
    "\n",
    "model = Wavenet()\n",
    "model.construct(47, 47) # not sure about the construct parameters here\n",
    "model.fit(x_tr, x_val, y_tr, y_val)"
   ]
  },
  {
   "cell_type": "code",
   "execution_count": null,
   "id": "56e09449",
   "metadata": {},
   "outputs": [
    {
     "name": "stdout",
     "output_type": "stream",
     "text": [
      "1/1 [==============================] - 0s 217ms/step\n",
      "1/1 [==============================] - 0s 18ms/step\n",
      "1/1 [==============================] - 0s 17ms/step\n",
      "1/1 [==============================] - 0s 17ms/step\n",
      "1/1 [==============================] - 0s 17ms/step\n",
      "1/1 [==============================] - 0s 16ms/step\n",
      "1/1 [==============================] - 0s 19ms/step\n",
      "1/1 [==============================] - 0s 17ms/step\n",
      "1/1 [==============================] - 0s 17ms/step\n",
      "1/1 [==============================] - 0s 17ms/step\n"
     ]
    }
   ],
   "source": [
    "# make predictions\n",
    "predicted_output = model.predict(x_val, 47)\n",
    "\n",
    "print(predicted_output.shape)\n",
    "print(predicted_output.dtype)"
   ]
  },
  {
   "cell_type": "code",
   "execution_count": null,
   "id": "60cb2126",
   "metadata": {},
   "outputs": [],
   "source": [
    "# from wavenet import ToMidi\n",
    "# midi = ToMidi()\n",
    "# midi.to_midi(predicted_output)"
   ]
  }
 ],
 "metadata": {
  "kernelspec": {
   "display_name": "Python 3.8.13 ('DL')",
   "language": "python",
   "name": "python3"
  },
  "language_info": {
   "codemirror_mode": {
    "name": "ipython",
    "version": 3
   },
   "file_extension": ".py",
   "mimetype": "text/x-python",
   "name": "python",
   "nbconvert_exporter": "python",
   "pygments_lexer": "ipython3",
   "version": "3.8.13"
  },
  "vscode": {
   "interpreter": {
    "hash": "81bc6bb4078edff0d935dfe3ec9a2fa481bd7105e8c22492a837b35394154f2f"
   }
  }
 },
 "nbformat": 4,
 "nbformat_minor": 5
}
