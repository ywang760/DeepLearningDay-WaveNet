{
  "cells": [
    {
      "attachments": {},
      "cell_type": "markdown",
      "id": "448143db",
      "metadata": {},
      "source": [
        "Uncomment the following code to run on Google Colab"
      ]
    },
    {
      "cell_type": "code",
      "execution_count": null,
      "id": "tAW-JK2_ssNX",
      "metadata": {
        "colab": {
          "base_uri": "https://localhost:8080/"
        },
        "id": "tAW-JK2_ssNX",
        "outputId": "970588e5-9ed1-4ebb-c7e0-3cce17cdd656"
      },
      "outputs": [],
      "source": [
        "# ! pip install pydub\n",
        "# ! pip install ffmpeg\n",
        "# ! pip install soundfile\n",
        "# from google.colab import drive\n",
        "# drive.mount('/content/drive')"
      ]
    },
    {
      "cell_type": "code",
      "execution_count": null,
      "id": "f1d92190",
      "metadata": {
        "id": "f1d92190"
      },
      "outputs": [],
      "source": [
        "import numpy as np\n",
        "import librosa\n",
        "import tensorflow as tf \n",
        "import tensorflow.keras.layers as layers\n",
        "from pydub import AudioSegment\n",
        "import soundfile as sf"
      ]
    },
    {
      "attachments": {},
      "cell_type": "markdown",
      "id": "6f8f5f92",
      "metadata": {},
      "source": [
        "## Preprocess"
      ]
    },
    {
      "attachments": {},
      "cell_type": "markdown",
      "id": "52a8c5db",
      "metadata": {},
      "source": [
        "Simply copy `preprocessing.py` here"
      ]
    },
    {
      "cell_type": "code",
      "execution_count": null,
      "id": "bfb70ba9",
      "metadata": {
        "id": "bfb70ba9"
      },
      "outputs": [],
      "source": [
        "import numpy as np\n",
        "import librosa\n",
        "import tensorflow as tf \n",
        "from pydub import AudioSegment\n",
        "\n",
        "def mu_law_encode(signal, quantization_channels):\n",
        "    # Manual mu-law companding and mu-bits quantization\n",
        "    mu = (quantization_channels - 1)\n",
        "    # signal should be in [-1, +1]\n",
        "    magnitude = np.log1p(mu * np.abs(signal)) / np.log1p(mu)\n",
        "    signal = np.sign(signal) * magnitude\n",
        "\n",
        "    # Map signal from [-1, +1] to [0, mu-1]\n",
        "    quantized_signal = ((signal + 1) / 2 * mu + 0.5)\n",
        "\n",
        "    return list(quantized_signal)\n",
        "\n",
        "class Preprocess:\n",
        "\n",
        "    def __init__(self, time_steps, sampling_rate, datapath, quantization_channels=256):\n",
        "        self.time_steps = time_steps\n",
        "        self.sampling_rate = sampling_rate\n",
        "        self.datapath = datapath # datapath is the directory path that contains the .wav files\n",
        "        self.inputs = []\n",
        "        self.quantization_channels = quantization_channels\n",
        "        self.normalized = False\n",
        "\n",
        "    def load_data(self):\n",
        "        # transform mp3 to wav\n",
        "        mp3_files = librosa.util.find_files(self.datapath, ext=['mp3'])\n",
        "        print(\"Found {} mp3 files\".format(len(mp3_files)))\n",
        "        i = 0\n",
        "        for mp3_file in mp3_files:\n",
        "            wav_file = mp3_file[:-4] + '.wav'\n",
        "            sound = AudioSegment.from_file(mp3_file, format=\"mp3\")\n",
        "            sound.export(wav_file, format=\"wav\")\n",
        "            i += 1\n",
        "            print(f\"Created {i} .wav files\")\n",
        "\n",
        "        wav_files = librosa.util.find_files(self.datapath, ext=['wav'])\n",
        "\n",
        "        if len(wav_files) == 0:\n",
        "            raise FileNotFoundError(\"No .wav files found in the directory\")\n",
        "        \n",
        "        print(\"Found {} wav files\".format(len(wav_files)))\n",
        "\n",
        "        for file in wav_files:\n",
        "            # load the audio file, range from -1 to 1\n",
        "            audio, sr = librosa.load(file, sr=self.sampling_rate, mono=True)\n",
        "            self.normalized = True\n",
        "\n",
        "            # trim the audio file\n",
        "            audio, _ = librosa.effects.trim(audio)\n",
        "            \n",
        "            # convert the audio file to mono\n",
        "            audio = librosa.to_mono(audio)\n",
        "\n",
        "            # normalize the audio file\n",
        "            if not self.normalized:\n",
        "                audio = audio / np.max(np.abs(audio))\n",
        "                \n",
        "            # discretize the audio file\n",
        "            audio = mu_law_encode(audio, self.quantization_channels)\n",
        "            self.inputs.append(audio)\n",
        "    \n",
        "        print(\"Finished loading data\")\n",
        "\n",
        "    # takes in a list of inputs, each is a long array\n",
        "    def create_dataset(self):\n",
        "\n",
        "        self.load_data()\n",
        "\n",
        "        self.sample_audio = self.inputs[0]\n",
        "\n",
        "        x = []\n",
        "        y = []\n",
        "\n",
        "        cnt = 0\n",
        "\n",
        "        for input in self.inputs:\n",
        "            for i in range(0, len(input) - self.time_steps):\n",
        "                # preparing input and output sequences\n",
        "                input_ = input[i:i + self.time_steps]\n",
        "                output = input[i + self.time_steps]\n",
        "                x.append(input_)\n",
        "                y.append(output)\n",
        "\n",
        "            cnt += 1\n",
        "            print(f\"Loaded {cnt} input data\")\n",
        "        \n",
        "        x = np.array(x)\n",
        "        y = np.array(y)\n",
        "        y = tf.one_hot(y, self.quantization_channels)\n",
        "\n",
        "        test_size = 0.2\n",
        "        i = int(len(x) * test_size)\n",
        "        x_tr = x[i:]\n",
        "        x_test = x[:i]\n",
        "        y_tr = y[i:]\n",
        "        y_test = y[:i]\n",
        "        \n",
        "        print(\"Finished creating dataset\")\n",
        "        return x_tr, x_test, y_tr, y_test"
      ]
    },
    {
      "attachments": {},
      "cell_type": "markdown",
      "id": "8d572a16",
      "metadata": {},
      "source": [
        "## Wavenet"
      ]
    },
    {
      "attachments": {},
      "cell_type": "markdown",
      "id": "3e4bbc20",
      "metadata": {},
      "source": [
        "Simply copy `wavenet.py` here"
      ]
    },
    {
      "cell_type": "code",
      "execution_count": null,
      "id": "5069e441",
      "metadata": {
        "id": "5069e441"
      },
      "outputs": [],
      "source": [
        "import numpy as np\n",
        "import tensorflow as tf \n",
        "import tensorflow.keras.layers as layers\n",
        "import soundfile as sf\n",
        "\n",
        "def mu_law_decode(signal, quantization_channels):\n",
        "    # Calculate inverse mu-law companding and dequantization\n",
        "    mu = quantization_channels - 1\n",
        "    # Map signal from [0, mu-1] to [-1, +1]\n",
        "    signal = 2 * (signal.astype(np.float32) / mu) - 1\n",
        "    signal = np.sign(signal) * (1.0 / mu) * ((1.0 + mu)**abs(signal) - 1.0)\n",
        "    return signal\n",
        "\n",
        "class Wavenet(tf.keras.Model):\n",
        "    def __init__(self, timesteps = 32, quantization_channels=256, **kwargs):\n",
        "        super().__init__(**kwargs)\n",
        "        self.timesteps = timesteps\n",
        "        self.quantization_channels = quantization_channels\n",
        "        self.model = tf.keras.Sequential([\n",
        "            layers.Embedding(self.quantization_channels, 100, input_length=32, trainable=True),\n",
        "            layers.Conv1D(64, 3, padding='causal', activation='relu'),\n",
        "            layers.Dropout(0.2),\n",
        "            layers.MaxPool1D(2),\n",
        "            layers.Conv1D(128, 3, activation='relu', dilation_rate=2, padding='causal'),\n",
        "            layers.Dropout(0.2),\n",
        "            layers.MaxPool1D(2),\n",
        "            layers.Conv1D(256, 3, activation='relu', dilation_rate=4, padding='causal'),\n",
        "            layers.Dropout(0.2),\n",
        "            layers.MaxPool1D(2),\n",
        "            layers.GlobalMaxPool1D(),\n",
        "            layers.Dense(256, activation='relu'),\n",
        "            layers.Dense(self.quantization_channels, activation='softmax'),\n",
        "        ])\n",
        "\n",
        "    def call(self, inputs):\n",
        "        return self.model(inputs)\n",
        "\n",
        "    def generate(self, generate_time, sampling_rate):\n",
        "        mean = self.quantization_channels / 2\n",
        "        std = mean * 0.909\n",
        "        no_samples = generate_time * sampling_rate\n",
        "        inputs = tf.random.normal((no_samples, self.timesteps), mean=mean, stddev=std, dtype=tf.float32)\n",
        "\n",
        "        # forward pass:\n",
        "        predicted_output = self.model.predict(inputs)\n",
        "        print(f\"Model prediction has shape {predicted_output.shape}\")\n",
        "\n",
        "        # generate predictions\n",
        "        labels = np.argmax(predicted_output, axis=-1)\n",
        "        print(f\"Labels has shape {labels.shape}\")\n",
        "\n",
        "        # decode the predictions\n",
        "        self.out = mu_law_decode(labels, self.quantization_channels)\n",
        "        sf.write(\"generated.wav\", self.out, sampling_rate)\n",
        "        print(\"Finished generating audio\")"
      ]
    },
    {
      "attachments": {},
      "cell_type": "markdown",
      "id": "66d9ac4e",
      "metadata": {},
      "source": [
        "Define hyperparameters and preprocessing"
      ]
    },
    {
      "cell_type": "code",
      "execution_count": null,
      "id": "6a41eac1",
      "metadata": {
        "colab": {
          "base_uri": "https://localhost:8080/"
        },
        "id": "6a41eac1",
        "outputId": "d1aa7fe7-b93a-4a0d-aca3-1dd4b130c14c"
      },
      "outputs": [],
      "source": [
        "ts = 32 # time steps, number of samples per input\n",
        "sr = 16000 # sampling rate, number of samples per second\n",
        "qc = 256 # quantization channels, number of possible values for each sample\n",
        "\n",
        "preprocess = Preprocess(time_steps=ts, sampling_rate=sr, quantization_channels=qc, datapath='audiotest')\n",
        "x_tr, x_val, y_tr, y_val = preprocess.create_dataset()"
      ]
    },
    {
      "attachments": {},
      "cell_type": "markdown",
      "id": "de2ddea4",
      "metadata": {},
      "source": [
        "Play and visualize sample input audio"
      ]
    },
    {
      "cell_type": "code",
      "execution_count": null,
      "id": "775a9be6",
      "metadata": {},
      "outputs": [],
      "source": [
        "import matplotlib.pyplot as plt\n",
        "import librosa.display\n",
        "from IPython.display import Audio\n",
        "\n",
        "def visualize_input(datapath):\n",
        "    # mp3_file = librosa.util.find_files(datapath, ext=['mp3'])[0]\n",
        "    # wav_file = mp3_file[:-4] + '.wav'\n",
        "    # sound = AudioSegment.from_file(mp3_file, format=\"mp3\")\n",
        "    # sound.export(wav_file, format=\"wav\")\n",
        "    \n",
        "    wav_files = librosa.util.find_files(datapath, ext=['wav'])\n",
        "    audio, _ = librosa.load(wav_files[0], sr=sr)\n",
        "\n",
        "    librosa.display.waveshow(audio, sr=sr)\n",
        "    plt.title('Input amplitude (normalized) with respect to time')\n",
        "\n",
        "    return audio\n",
        "\n",
        "audio = visualize_input('guzheng')\n",
        "# print(audio[:1000])\n",
        "Audio(audio, rate=sr)"
      ]
    },
    {
      "attachments": {},
      "cell_type": "markdown",
      "id": "6bfe4930",
      "metadata": {},
      "source": [
        "Sanity check:"
      ]
    },
    {
      "cell_type": "code",
      "execution_count": null,
      "id": "b6c9fd9b",
      "metadata": {
        "colab": {
          "base_uri": "https://localhost:8080/"
        },
        "id": "b6c9fd9b",
        "outputId": "69908033-b902-4500-b2b2-7700fd4e756b"
      },
      "outputs": [],
      "source": [
        "print(x_tr.shape) # should be (num, ts)\n",
        "print(x_val.shape) # should be (num/4, ts)\n",
        "print(y_tr.shape) # should be (num, qc)\n",
        "print(y_val.shape) # should be (num/4, qc)\n",
        "\n",
        "print(x_tr.dtype) # should be float32"
      ]
    },
    {
      "attachments": {},
      "cell_type": "markdown",
      "id": "56996660",
      "metadata": {},
      "source": [
        "Display the model"
      ]
    },
    {
      "cell_type": "code",
      "execution_count": null,
      "id": "3156849a",
      "metadata": {
        "colab": {
          "base_uri": "https://localhost:8080/"
        },
        "id": "3156849a",
        "outputId": "cd8d5494-9ab6-4a2f-aa12-2707d5604478"
      },
      "outputs": [],
      "source": [
        "model = Wavenet(timesteps=ts, quantization_channels=qc)\n",
        "model(x_tr[:1])\n",
        "model.model.summary()"
      ]
    },
    {
      "cell_type": "code",
      "execution_count": null,
      "id": "7a186710",
      "metadata": {},
      "outputs": [],
      "source": [
        "%load_ext tensorboard\n",
        "import numpy as np\n",
        "import pandas as pd\n",
        "import tensorflow as tf\n",
        "import datetime\n",
        "\n",
        "! rm -rf ./logs/\n",
        "log_dir = \"logs/fit/\" + datetime.datetime.now().strftime(\"%Y%m%d-%H%M%S\")\n",
        "tensorboard_callback = tf.keras.callbacks.TensorBoard(log_dir=log_dir, histogram_freq=1)"
      ]
    },
    {
      "attachments": {},
      "cell_type": "markdown",
      "id": "8db19860",
      "metadata": {},
      "source": [
        "Train the model"
      ]
    },
    {
      "cell_type": "code",
      "execution_count": null,
      "id": "fe3af8ca",
      "metadata": {
        "colab": {
          "base_uri": "https://localhost:8080/"
        },
        "id": "fe3af8ca",
        "outputId": "843a5890-e7f7-4128-93ac-c2cf694e2e90"
      },
      "outputs": [],
      "source": [
        "model.compile(optimizer='adam', loss='categorical_crossentropy', metrics=['accuracy'])\n",
        "history = model.fit(x_tr, y_tr, batch_size = 128, epochs=10, validation_data=(x_val, y_val), verbose=1, callbacks=[tensorboard_callback])"
      ]
    },
    {
      "cell_type": "code",
      "execution_count": null,
      "id": "0a8233b3",
      "metadata": {},
      "outputs": [],
      "source": [
        "%tensorboard --logdir logs/fit"
      ]
    },
    {
      "cell_type": "code",
      "execution_count": null,
      "id": "rORHZPkgwBh6",
      "metadata": {
        "id": "rORHZPkgwBh6"
      },
      "outputs": [],
      "source": [
        "history.history"
      ]
    },
    {
      "attachments": {},
      "cell_type": "markdown",
      "id": "431dd4f0",
      "metadata": {},
      "source": [
        "Visualization for loss and accuracy"
      ]
    },
    {
      "cell_type": "code",
      "execution_count": null,
      "id": "0eebce37",
      "metadata": {},
      "outputs": [],
      "source": [
        "acc = history.history['acc']\n",
        "val_acc = history.history['val_acc']\n",
        "loss = history.history['loss']\n",
        "val_loss = history.history['val_loss']\n",
        "\n",
        "import matplotlib.pyplot as plt\n",
        "\n",
        "epochs = range(1, len(acc) + 1)\n",
        "\n",
        "plt.plot(epochs, acc, 'bo', label='Training acc')\n",
        "plt.plot(epochs, val_acc, 'b', label='Validation acc')\n",
        "plt.title('Training and validation accuracy')\n",
        "plt.legend()\n",
        "\n",
        "plt.figure()\n",
        "\n",
        "plt.plot(epochs, loss, 'bo', label='Training loss')\n",
        "plt.plot(epochs, val_loss, 'b', label='Validation loss')\n",
        "plt.title('Training and validation loss')\n",
        "plt.legend()\n",
        "\n",
        "plt.show()"
      ]
    },
    {
      "attachments": {},
      "cell_type": "markdown",
      "id": "94ae91bf",
      "metadata": {},
      "source": [
        "Generate audio and save to `generated.wav`"
      ]
    },
    {
      "cell_type": "code",
      "execution_count": null,
      "id": "248a7ee6",
      "metadata": {
        "id": "248a7ee6"
      },
      "outputs": [],
      "source": [
        "model.generate(generate_time = 10, sampling_rate = sr)"
      ]
    },
    {
      "attachments": {},
      "cell_type": "markdown",
      "id": "e84dbcf6",
      "metadata": {},
      "source": [
        "Visualization of output"
      ]
    },
    {
      "cell_type": "code",
      "execution_count": null,
      "id": "67f43408",
      "metadata": {},
      "outputs": [],
      "source": [
        "librosa.display.waveshow(model.out, sr=sr)\n",
        "plt.title('Generated amplitude (normalized) with respect to time')\n",
        "Audio(model.out, rate=sr)"
      ]
    }
  ],
  "metadata": {
    "accelerator": "GPU",
    "colab": {
      "provenance": [],
      "toc_visible": true
    },
    "gpuClass": "standard",
    "kernelspec": {
      "display_name": "Python 3.8.13 ('DL')",
      "language": "python",
      "name": "python3"
    },
    "language_info": {
      "codemirror_mode": {
        "name": "ipython",
        "version": 3
      },
      "file_extension": ".py",
      "mimetype": "text/x-python",
      "name": "python",
      "nbconvert_exporter": "python",
      "pygments_lexer": "ipython3",
      "version": "3.8.13 (default, Oct 19 2022, 22:38:03) [MSC v.1916 64 bit (AMD64)]"
    },
    "vscode": {
      "interpreter": {
        "hash": "81bc6bb4078edff0d935dfe3ec9a2fa481bd7105e8c22492a837b35394154f2f"
      }
    }
  },
  "nbformat": 4,
  "nbformat_minor": 5
}
