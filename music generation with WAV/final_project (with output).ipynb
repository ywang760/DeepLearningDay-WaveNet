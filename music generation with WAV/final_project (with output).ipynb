{
  "cells": [
    {
      "cell_type": "code",
      "execution_count": 1,
      "id": "tAW-JK2_ssNX",
      "metadata": {
        "colab": {
          "base_uri": "https://localhost:8080/"
        },
        "id": "tAW-JK2_ssNX",
        "outputId": "61c7a2de-326b-4c79-c8ad-8c8dd9c79e3e"
      },
      "outputs": [
        {
          "name": "stdout",
          "output_type": "stream",
          "text": [
            "Looking in indexes: https://pypi.org/simple, https://us-python.pkg.dev/colab-wheels/public/simple/\n",
            "Collecting pydub\n",
            "  Downloading pydub-0.25.1-py2.py3-none-any.whl (32 kB)\n",
            "Installing collected packages: pydub\n",
            "Successfully installed pydub-0.25.1\n",
            "Looking in indexes: https://pypi.org/simple, https://us-python.pkg.dev/colab-wheels/public/simple/\n",
            "Collecting ffmpeg\n",
            "  Downloading ffmpeg-1.4.tar.gz (5.1 kB)\n",
            "Building wheels for collected packages: ffmpeg\n",
            "  Building wheel for ffmpeg (setup.py) ... \u001b[?25l\u001b[?25hdone\n",
            "  Created wheel for ffmpeg: filename=ffmpeg-1.4-py3-none-any.whl size=6084 sha256=4c4545a6ebb5f35b78ae9cd28991da2ed92ac17d9255bc645f592184344e1e9e\n",
            "  Stored in directory: /root/.cache/pip/wheels/30/33/46/5ab7eca55b9490dddbf3441c68a29535996270ef1ce8b9b6d7\n",
            "Successfully built ffmpeg\n",
            "Installing collected packages: ffmpeg\n",
            "Successfully installed ffmpeg-1.4\n"
          ]
        }
      ],
      "source": [
        "! pip install pydub\n",
        "! pip install ffmpeg"
      ]
    },
    {
      "cell_type": "code",
      "execution_count": 2,
      "id": "PpLfeT5YOrPv",
      "metadata": {
        "colab": {
          "base_uri": "https://localhost:8080/"
        },
        "id": "PpLfeT5YOrPv",
        "outputId": "b947bf9b-5f80-439a-b40e-e6e610a94e61"
      },
      "outputs": [
        {
          "name": "stdout",
          "output_type": "stream",
          "text": [
            "Mounted at /content/drive\n"
          ]
        }
      ],
      "source": [
        "from google.colab import drive\n",
        "drive.mount('/content/drive')"
      ]
    },
    {
      "cell_type": "code",
      "execution_count": 3,
      "id": "f1d92190",
      "metadata": {
        "id": "f1d92190"
      },
      "outputs": [],
      "source": [
        "import numpy as np\n",
        "import librosa\n",
        "import tensorflow as tf \n",
        "import tensorflow.keras.layers as layers\n",
        "from sklearn.model_selection import train_test_split\n",
        "from pydub import AudioSegment\n",
        "from keras.models import Sequential\n",
        "from keras.callbacks import ModelCheckpoint\n",
        "import matplotlib.pyplot as plt\n",
        "import soundfile as sf\n",
        "from IPython.display import Audio"
      ]
    },
    {
      "cell_type": "code",
      "execution_count": 4,
      "id": "bfb70ba9",
      "metadata": {
        "id": "bfb70ba9"
      },
      "outputs": [],
      "source": [
        "def mu_law_encode(signal, quantization_channels):\n",
        "    # Manual mu-law companding and mu-bits quantization\n",
        "    mu = (quantization_channels - 1)\n",
        "    # signal should be in [-1, +1]\n",
        "    magnitude = np.log1p(mu * np.abs(signal)) / np.log1p(mu)\n",
        "    signal = np.sign(signal) * magnitude\n",
        "\n",
        "    # Map signal from [-1, +1] to [0, mu-1]\n",
        "    quantized_signal = ((signal + 1) / 2 * mu + 0.5)\n",
        "\n",
        "    return list(quantized_signal)\n",
        "\n",
        "class Preprocess:\n",
        "\n",
        "    def __init__(self, time_steps, sampling_rate, datapath, quantization_channels=256):\n",
        "        self.time_steps = time_steps\n",
        "        self.sampling_rate = sampling_rate\n",
        "        self.datapath = datapath # datapath is the directory path that contains the .wav files\n",
        "        self.inputs = []\n",
        "        self.quantization_channels = quantization_channels\n",
        "        self.normalized = False\n",
        "\n",
        "    def load_data(self):\n",
        "        # transform mp3 to wav\n",
        "        mp3_files = librosa.util.find_files(self.datapath, ext=['mp3'])\n",
        "        print(f\"Found {len(mp3_files)} mp3 files.\")\n",
        "        i = 0\n",
        "        for mp3_file in mp3_files:\n",
        "            wav_file = mp3_file[:-4] + '.wav'\n",
        "            sound = AudioSegment.from_file(mp3_file, format=\"mp3\")\n",
        "            sound.export(wav_file, format=\"wav\")\n",
        "            i += 1\n",
        "            print(f\"Created {i} .wav files\")\n",
        "\n",
        "        wav_files = librosa.util.find_files(self.datapath, ext=['wav'])\n",
        "\n",
        "        if len(wav_files) == 0:\n",
        "            raise FileNotFoundError(\"No .wav files found in the directory\")\n",
        "        \n",
        "        print(\"Found {} .wav files in the directory\".format(len(wav_files)))\n",
        "\n",
        "        for file in wav_files:\n",
        "            # load the audio file, range from -1 to 1\n",
        "            audio, sr = librosa.load(file, sr=self.sampling_rate, mono=True)\n",
        "            self.normalized = True\n",
        "            # convert the audio file to mono\n",
        "            # audio = librosa.to_mono(audio)\n",
        "            # normalize the audio file\n",
        "            if not self.normalized:\n",
        "                audio = audio / np.max(np.abs(audio))\n",
        "            # discretize the audio file\n",
        "            audio = mu_law_encode(audio, self.quantization_channels)\n",
        "            self.inputs.append(audio)\n",
        "    \n",
        "        print(\"Finished loading data\")\n",
        "\n",
        "    # takes in a list of inputs, each is a long array\n",
        "    def create_dataset(self):\n",
        "\n",
        "        self.load_data()\n",
        "\n",
        "        x = []\n",
        "        y = []\n",
        "\n",
        "        cnt = 0\n",
        "\n",
        "        for input in self.inputs:\n",
        "            for i in range(0, len(input) - self.time_steps):\n",
        "                # preparing input and output sequences\n",
        "                input_ = input[i:i + self.time_steps]\n",
        "                output = input[i + self.time_steps]\n",
        "                x.append(input_)\n",
        "                y.append(output)\n",
        "            cnt += 1\n",
        "            print(f\"Loaded {cnt} input data\")\n",
        "        \n",
        "        x = np.array(x)\n",
        "        y = np.array(y)\n",
        "        y = tf.one_hot(y, self.quantization_channels)\n",
        "\n",
        "        test_size = 0.2\n",
        "        i = int(len(x) * test_size)\n",
        "        x_tr = x[i:]\n",
        "        x_test = x[:i]\n",
        "        y_tr = y[i:]\n",
        "        y_test = y[:i]\n",
        "        \n",
        "        print(\"Finished creating dataset\")\n",
        "        return x_tr, x_test, y_tr, y_test"
      ]
    },
    {
      "cell_type": "code",
      "execution_count": 17,
      "id": "5069e441",
      "metadata": {
        "id": "5069e441"
      },
      "outputs": [],
      "source": [
        "def mu_law_decode(signal, quantization_channels):\n",
        "    # Calculate inverse mu-law companding and dequantization\n",
        "    mu = quantization_channels - 1\n",
        "    # Map signal from [0, mu-1] to [-1, +1]\n",
        "    signal = 2 * (signal.astype(np.float32) / mu) - 1\n",
        "    signal = np.sign(signal) * (1.0 / mu) * ((1.0 + mu)**abs(signal) - 1.0)\n",
        "    return signal\n",
        "\n",
        "class Wavenet(tf.keras.Model):\n",
        "    def __init__(self, timesteps = 32, output_dims = 256, quantization_channels=256, **kwargs):\n",
        "        super().__init__(**kwargs)\n",
        "        self.timesteps = timesteps\n",
        "        self.output_dims = output_dims\n",
        "        self.quantization_channels = quantization_channels\n",
        "        self.model = tf.keras.Sequential([\n",
        "            layers.Embedding(self.quantization_channels, 100, input_length=32, trainable=True),\n",
        "            layers.Conv1D(64, 3, padding='causal', activation='relu'),\n",
        "            layers.Dropout(0.2),\n",
        "            layers.MaxPool1D(2),\n",
        "            layers.Conv1D(128, 3, activation='relu', dilation_rate=2, padding='causal'),\n",
        "            layers.Dropout(0.2),\n",
        "            layers.MaxPool1D(2),\n",
        "            layers.Conv1D(256, 3, activation='relu', dilation_rate=4, padding='causal'),\n",
        "            layers.Dropout(0.2),\n",
        "            layers.MaxPool1D(2),\n",
        "            layers.GlobalMaxPool1D(),\n",
        "            layers.Dense(256, activation='relu'),\n",
        "            layers.Dense(self.output_dims, activation='softmax'),\n",
        "        ])\n",
        "\n",
        "    def call(self, inputs):\n",
        "        return self.model(inputs)\n",
        "\n",
        "    def generate(self, generate_time, sampling_rate):\n",
        "        mean = self.quantization_channels / 2\n",
        "        std = mean * 0.909\n",
        "        no_samples = generate_time * sampling_rate\n",
        "        inputs = tf.random.normal((no_samples, self.timesteps), mean=mean, stddev=std, dtype=tf.float32)\n",
        "\n",
        "        # forward pass:\n",
        "        predicted_output = self.model.predict(inputs)\n",
        "        print(predicted_output.shape)\n",
        "\n",
        "        # generate predictions\n",
        "        labels = np.argmax(predicted_output, axis=-1)\n",
        "        print(labels.shape)\n",
        "\n",
        "        # decode the predictions\n",
        "        self.output = mu_law_decode(labels, self.quantization_channels)\n",
        "        sf.write(\"generated.wav\", self.output, sampling_rate)\n",
        "        print(\"Finished generating audio\")"
      ]
    },
    {
      "cell_type": "code",
      "execution_count": 7,
      "id": "6a41eac1",
      "metadata": {
        "colab": {
          "base_uri": "https://localhost:8080/"
        },
        "id": "6a41eac1",
        "outputId": "eca197b4-a42d-4c70-95b6-83a329ee11d5"
      },
      "outputs": [
        {
          "name": "stdout",
          "output_type": "stream",
          "text": [
            "Found 0 mp3 files.\n",
            "Found 1 .wav files in the directory\n",
            "Finished loading data\n",
            "Loaded 1 input data\n",
            "Finished creating dataset\n"
          ]
        }
      ],
      "source": [
        "sr = 16000\n",
        "ts = 32\n",
        "qc = 256\n",
        "\n",
        "preprocess = Preprocess(time_steps=ts, sampling_rate=sr, datapath='/content/drive/MyDrive/guzheng', quantization_channels=qc)\n",
        "x_tr, x_val, y_tr, y_val = preprocess.create_dataset()"
      ]
    },
    {
      "cell_type": "code",
      "execution_count": 8,
      "id": "b6c9fd9b",
      "metadata": {
        "colab": {
          "base_uri": "https://localhost:8080/"
        },
        "id": "b6c9fd9b",
        "outputId": "de279916-5232-425c-aaa0-a6cb9bab159f"
      },
      "outputs": [
        {
          "name": "stdout",
          "output_type": "stream",
          "text": [
            "(2611398, 32)\n",
            "(652849, 32)\n",
            "(2611398, 256)\n",
            "(652849, 256)\n",
            "float32\n"
          ]
        }
      ],
      "source": [
        "print(x_tr.shape)\n",
        "print(x_val.shape)\n",
        "print(y_tr.shape)\n",
        "print(y_val.shape)\n",
        "\n",
        "print(x_tr.dtype)"
      ]
    },
    {
      "cell_type": "code",
      "execution_count": 9,
      "id": "3156849a",
      "metadata": {
        "colab": {
          "base_uri": "https://localhost:8080/"
        },
        "id": "3156849a",
        "outputId": "10e2c1d9-3183-47bd-8ce2-e85fe2435b00"
      },
      "outputs": [
        {
          "name": "stdout",
          "output_type": "stream",
          "text": [
            "Model: \"sequential\"\n",
            "_________________________________________________________________\n",
            " Layer (type)                Output Shape              Param #   \n",
            "=================================================================\n",
            " embedding (Embedding)       (None, 32, 100)           25600     \n",
            "                                                                 \n",
            " conv1d (Conv1D)             (None, 32, 64)            19264     \n",
            "                                                                 \n",
            " dropout (Dropout)           (None, 32, 64)            0         \n",
            "                                                                 \n",
            " max_pooling1d (MaxPooling1D  (None, 16, 64)           0         \n",
            " )                                                               \n",
            "                                                                 \n",
            " conv1d_1 (Conv1D)           (None, 16, 128)           24704     \n",
            "                                                                 \n",
            " dropout_1 (Dropout)         (None, 16, 128)           0         \n",
            "                                                                 \n",
            " max_pooling1d_1 (MaxPooling  (None, 8, 128)           0         \n",
            " 1D)                                                             \n",
            "                                                                 \n",
            " conv1d_2 (Conv1D)           (None, 8, 256)            98560     \n",
            "                                                                 \n",
            " dropout_2 (Dropout)         (None, 8, 256)            0         \n",
            "                                                                 \n",
            " max_pooling1d_2 (MaxPooling  (None, 4, 256)           0         \n",
            " 1D)                                                             \n",
            "                                                                 \n",
            " global_max_pooling1d (Globa  (None, 256)              0         \n",
            " lMaxPooling1D)                                                  \n",
            "                                                                 \n",
            " dense (Dense)               (None, 256)               65792     \n",
            "                                                                 \n",
            " dense_1 (Dense)             (None, 256)               65792     \n",
            "                                                                 \n",
            "=================================================================\n",
            "Total params: 299,712\n",
            "Trainable params: 299,712\n",
            "Non-trainable params: 0\n",
            "_________________________________________________________________\n"
          ]
        }
      ],
      "source": [
        "model = Wavenet(timesteps=ts, output_dims = 256, quantization_channels=qc)\n",
        "model(x_tr[:1])\n",
        "model.model.summary()"
      ]
    },
    {
      "cell_type": "code",
      "execution_count": 11,
      "id": "fe3af8ca",
      "metadata": {
        "colab": {
          "base_uri": "https://localhost:8080/"
        },
        "id": "fe3af8ca",
        "outputId": "cde09623-d63e-4377-95cc-1cae94a28b41"
      },
      "outputs": [
        {
          "name": "stdout",
          "output_type": "stream",
          "text": [
            "Epoch 1/2\n",
            "20402/20402 [==============================] - 149s 7ms/step - loss: 3.4255 - accuracy: 0.0866 - val_loss: 3.3451 - val_accuracy: 0.1071\n",
            "Epoch 2/2\n",
            "20402/20402 [==============================] - 148s 7ms/step - loss: 3.1916 - accuracy: 0.1015 - val_loss: 3.2770 - val_accuracy: 0.1114\n"
          ]
        }
      ],
      "source": [
        "model.compile(optimizer='adam', loss='categorical_crossentropy', metrics=['accuracy'])\n",
        "history = model.fit(x_tr, y_tr, batch_size = 128, epochs=2, validation_data=(x_val, y_val), verbose=1)"
      ]
    },
    {
      "cell_type": "code",
      "execution_count": 12,
      "id": "rORHZPkgwBh6",
      "metadata": {
        "colab": {
          "base_uri": "https://localhost:8080/"
        },
        "id": "rORHZPkgwBh6",
        "outputId": "df9de4c7-da20-4222-fc22-5e7a26accb95"
      },
      "outputs": [
        {
          "data": {
            "text/plain": [
              "{'loss': [3.4255192279815674, 3.191568374633789],\n",
              " 'accuracy': [0.08657010644674301, 0.10153795033693314],\n",
              " 'val_loss': [3.345090866088867, 3.2769808769226074],\n",
              " 'val_accuracy': [0.10707376152276993, 0.11136725544929504]}"
            ]
          },
          "execution_count": 12,
          "metadata": {},
          "output_type": "execute_result"
        }
      ],
      "source": [
        "history.history"
      ]
    },
    {
      "cell_type": "code",
      "execution_count": 18,
      "id": "248a7ee6",
      "metadata": {
        "colab": {
          "base_uri": "https://localhost:8080/"
        },
        "id": "248a7ee6",
        "outputId": "8fd5eb31-9a6e-4ee7-d808-d3f76b7275ef"
      },
      "outputs": [
        {
          "name": "stdout",
          "output_type": "stream",
          "text": [
            "5000/5000 [==============================] - 11s 2ms/step\n",
            "(160000, 256)\n",
            "(160000,)\n",
            "Finished generating audio\n"
          ]
        }
      ],
      "source": [
        "model.generate(generate_time = 10, sampling_rate = sr)"
      ]
    }
  ],
  "metadata": {
    "accelerator": "GPU",
    "colab": {
      "provenance": []
    },
    "gpuClass": "standard",
    "kernelspec": {
      "display_name": "Python 3.8.13 ('DL')",
      "language": "python",
      "name": "python3"
    },
    "language_info": {
      "codemirror_mode": {
        "name": "ipython",
        "version": 3
      },
      "file_extension": ".py",
      "mimetype": "text/x-python",
      "name": "python",
      "nbconvert_exporter": "python",
      "pygments_lexer": "ipython3",
      "version": "3.8.13 (default, Oct 19 2022, 22:38:03) [MSC v.1916 64 bit (AMD64)]"
    },
    "vscode": {
      "interpreter": {
        "hash": "81bc6bb4078edff0d935dfe3ec9a2fa481bd7105e8c22492a837b35394154f2f"
      }
    }
  },
  "nbformat": 4,
  "nbformat_minor": 5
}
